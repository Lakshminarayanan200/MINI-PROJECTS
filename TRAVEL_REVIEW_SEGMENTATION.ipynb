{
  "nbformat": 4,
  "nbformat_minor": 0,
  "metadata": {
    "colab": {
      "provenance": []
    },
    "kernelspec": {
      "name": "python3",
      "display_name": "Python 3"
    },
    "language_info": {
      "name": "python"
    }
  },
  "cells": [
    {
      "cell_type": "markdown",
      "source": [
        "# **LOAD ALL THE LIBRARIES**"
      ],
      "metadata": {
        "id": "ZaYUlkqgFyc4"
      }
    },
    {
      "cell_type": "code",
      "execution_count": null,
      "metadata": {
        "id": "A4Z5efYlFqZs"
      },
      "outputs": [],
      "source": [
        "import pandas as pd\n",
        "import numpy as np\n",
        "import matplotlib.pyplot as plt\n",
        "import seaborn as sns\n",
        "from sklearn.cluster import AgglomerativeClustering\n",
        "from scipy.cluster.hierarchy import dendrogram,linkage"
      ]
    },
    {
      "cell_type": "code",
      "source": [
        "data = pd.read_csv('/content/google_review_ratings.csv')"
      ],
      "metadata": {
        "id": "MPqUCqQ1Gcrq"
      },
      "execution_count": null,
      "outputs": []
    },
    {
      "cell_type": "code",
      "source": [
        "data.info()"
      ],
      "metadata": {
        "colab": {
          "base_uri": "https://localhost:8080/"
        },
        "id": "GcgqXVRzGmRi",
        "outputId": "9ca12750-e209-42db-94b0-b26fbaaed4ff"
      },
      "execution_count": null,
      "outputs": [
        {
          "output_type": "stream",
          "name": "stdout",
          "text": [
            "<class 'pandas.core.frame.DataFrame'>\n",
            "RangeIndex: 5456 entries, 0 to 5455\n",
            "Data columns (total 26 columns):\n",
            " #   Column       Non-Null Count  Dtype  \n",
            "---  ------       --------------  -----  \n",
            " 0   User         5456 non-null   object \n",
            " 1   Category 1   5456 non-null   float64\n",
            " 2   Category 2   5456 non-null   float64\n",
            " 3   Category 3   5456 non-null   float64\n",
            " 4   Category 4   5456 non-null   float64\n",
            " 5   Category 5   5456 non-null   float64\n",
            " 6   Category 6   5456 non-null   float64\n",
            " 7   Category 7   5456 non-null   float64\n",
            " 8   Category 8   5456 non-null   float64\n",
            " 9   Category 9   5456 non-null   float64\n",
            " 10  Category 10  5456 non-null   float64\n",
            " 11  Category 11  5456 non-null   object \n",
            " 12  Category 12  5455 non-null   float64\n",
            " 13  Category 13  5456 non-null   float64\n",
            " 14  Category 14  5456 non-null   float64\n",
            " 15  Category 15  5456 non-null   float64\n",
            " 16  Category 16  5456 non-null   float64\n",
            " 17  Category 17  5456 non-null   float64\n",
            " 18  Category 18  5456 non-null   float64\n",
            " 19  Category 19  5456 non-null   float64\n",
            " 20  Category 20  5456 non-null   float64\n",
            " 21  Category 21  5456 non-null   float64\n",
            " 22  Category 22  5456 non-null   float64\n",
            " 23  Category 23  5456 non-null   float64\n",
            " 24  Category 24  5455 non-null   float64\n",
            " 25  Unnamed: 25  2 non-null      float64\n",
            "dtypes: float64(24), object(2)\n",
            "memory usage: 1.1+ MB\n"
          ]
        }
      ]
    },
    {
      "cell_type": "code",
      "source": [
        "data.drop(['User','Category 11','Unnamed: 25'],axis = 1, inplace = True)"
      ],
      "metadata": {
        "id": "LglehnXTGyis"
      },
      "execution_count": null,
      "outputs": []
    },
    {
      "cell_type": "code",
      "source": [
        "data.info()"
      ],
      "metadata": {
        "colab": {
          "base_uri": "https://localhost:8080/"
        },
        "id": "B7qH2ThfHaca",
        "outputId": "c76f2920-d52b-4e97-bd71-ff0b2b970c02"
      },
      "execution_count": null,
      "outputs": [
        {
          "output_type": "stream",
          "name": "stdout",
          "text": [
            "<class 'pandas.core.frame.DataFrame'>\n",
            "RangeIndex: 5456 entries, 0 to 5455\n",
            "Data columns (total 23 columns):\n",
            " #   Column       Non-Null Count  Dtype  \n",
            "---  ------       --------------  -----  \n",
            " 0   Category 1   5456 non-null   float64\n",
            " 1   Category 2   5456 non-null   float64\n",
            " 2   Category 3   5456 non-null   float64\n",
            " 3   Category 4   5456 non-null   float64\n",
            " 4   Category 5   5456 non-null   float64\n",
            " 5   Category 6   5456 non-null   float64\n",
            " 6   Category 7   5456 non-null   float64\n",
            " 7   Category 8   5456 non-null   float64\n",
            " 8   Category 9   5456 non-null   float64\n",
            " 9   Category 10  5456 non-null   float64\n",
            " 10  Category 12  5455 non-null   float64\n",
            " 11  Category 13  5456 non-null   float64\n",
            " 12  Category 14  5456 non-null   float64\n",
            " 13  Category 15  5456 non-null   float64\n",
            " 14  Category 16  5456 non-null   float64\n",
            " 15  Category 17  5456 non-null   float64\n",
            " 16  Category 18  5456 non-null   float64\n",
            " 17  Category 19  5456 non-null   float64\n",
            " 18  Category 20  5456 non-null   float64\n",
            " 19  Category 21  5456 non-null   float64\n",
            " 20  Category 22  5456 non-null   float64\n",
            " 21  Category 23  5456 non-null   float64\n",
            " 22  Category 24  5455 non-null   float64\n",
            "dtypes: float64(23)\n",
            "memory usage: 980.5 KB\n"
          ]
        }
      ]
    },
    {
      "cell_type": "code",
      "source": [
        "data.dropna(axis = 1,inplace = True)"
      ],
      "metadata": {
        "id": "t7Ixe-r3Hxbp"
      },
      "execution_count": null,
      "outputs": []
    },
    {
      "cell_type": "code",
      "source": [
        "data.info()"
      ],
      "metadata": {
        "colab": {
          "base_uri": "https://localhost:8080/"
        },
        "id": "RXCWmHX6H5kr",
        "outputId": "cd6d1cd6-6b4e-49bf-95fb-cce5e7163e88"
      },
      "execution_count": null,
      "outputs": [
        {
          "output_type": "stream",
          "name": "stdout",
          "text": [
            "<class 'pandas.core.frame.DataFrame'>\n",
            "RangeIndex: 5456 entries, 0 to 5455\n",
            "Data columns (total 21 columns):\n",
            " #   Column       Non-Null Count  Dtype  \n",
            "---  ------       --------------  -----  \n",
            " 0   Category 1   5456 non-null   float64\n",
            " 1   Category 2   5456 non-null   float64\n",
            " 2   Category 3   5456 non-null   float64\n",
            " 3   Category 4   5456 non-null   float64\n",
            " 4   Category 5   5456 non-null   float64\n",
            " 5   Category 6   5456 non-null   float64\n",
            " 6   Category 7   5456 non-null   float64\n",
            " 7   Category 8   5456 non-null   float64\n",
            " 8   Category 9   5456 non-null   float64\n",
            " 9   Category 10  5456 non-null   float64\n",
            " 10  Category 13  5456 non-null   float64\n",
            " 11  Category 14  5456 non-null   float64\n",
            " 12  Category 15  5456 non-null   float64\n",
            " 13  Category 16  5456 non-null   float64\n",
            " 14  Category 17  5456 non-null   float64\n",
            " 15  Category 18  5456 non-null   float64\n",
            " 16  Category 19  5456 non-null   float64\n",
            " 17  Category 20  5456 non-null   float64\n",
            " 18  Category 21  5456 non-null   float64\n",
            " 19  Category 22  5456 non-null   float64\n",
            " 20  Category 23  5456 non-null   float64\n",
            "dtypes: float64(21)\n",
            "memory usage: 895.2 KB\n"
          ]
        }
      ]
    },
    {
      "cell_type": "code",
      "source": [
        "linkage_data = linkage(data, method = 'ward', metric = 'euclidean')"
      ],
      "metadata": {
        "id": "WinLgHOgH-yM"
      },
      "execution_count": null,
      "outputs": []
    },
    {
      "cell_type": "code",
      "source": [
        "dendrogram(linkage_data)\n",
        "plt.show()"
      ],
      "metadata": {
        "colab": {
          "base_uri": "https://localhost:8080/",
          "height": 434
        },
        "id": "F-b-2rlPIlew",
        "outputId": "3954f0ea-c560-4b29-d170-1e61a28daf94"
      },
      "execution_count": null,
      "outputs": [
        {
          "output_type": "display_data",
          "data": {
            "text/plain": [
              "<Figure size 640x480 with 1 Axes>"
            ],
            "image/png": "[encoded data removed]"
          },
          "metadata": {}
        }
      ]
    },
    {
      "cell_type": "code",
      "source": [
        "hierarchial_cluster = AgglomerativeClustering(n_clusters = 4,affinity = 'euclidean',linkage = 'ward')"
      ],
      "metadata": {
        "id": "MC3cB6S6JcCX"
      },
      "execution_count": null,
      "outputs": []
    },
    {
      "cell_type": "code",
      "source": [
        "labels = hierarchial_cluster.fit_predict(data)"
      ],
      "metadata": {
        "colab": {
          "base_uri": "https://localhost:8080/"
        },
        "id": "y2fWSkl3KVRP",
        "outputId": "7fa07c70-637f-4248-9d68-557bca887614"
      },
      "execution_count": null,
      "outputs": [
        {
          "output_type": "stream",
          "name": "stderr",
          "text": [
            "/usr/local/lib/python3.9/dist-packages/sklearn/cluster/_agglomerative.py:983: FutureWarning: Attribute `affinity` was deprecated in version 1.2 and will be removed in 1.4. Use `metric` instead\n",
            "  warnings.warn(\n"
          ]
        }
      ]
    },
    {
      "cell_type": "code",
      "source": [
        "labels"
      ],
      "metadata": {
        "colab": {
          "base_uri": "https://localhost:8080/"
        },
        "id": "f4geK_AYK4y4",
        "outputId": "ac732ece-bc8f-4eae-b67e-144d96e56dfa"
      },
      "execution_count": null,
      "outputs": [
        {
          "output_type": "execute_result",
          "data": {
            "text/plain": [
              "array([0, 0, 0, ..., 2, 2, 2])"
            ]
          },
          "metadata": {},
          "execution_count": 15
        }
      ]
    },
    {
      "cell_type": "markdown",
      "source": [
        "# **dilhoutte score for evaluation**"
      ],
      "metadata": {
        "id": "F8s8kBLvLFGu"
      }
    },
    {
      "cell_type": "code",
      "source": [
        "data['hierarchial clusters'] = labels"
      ],
      "metadata": {
        "id": "9-oaCO6RK7M3"
      },
      "execution_count": null,
      "outputs": []
    },
    {
      "cell_type": "code",
      "source": [
        "data.columns"
      ],
      "metadata": {
        "colab": {
          "base_uri": "https://localhost:8080/"
        },
        "id": "BKQRZW0PLNCY",
        "outputId": "8f619a60-d09d-48b4-c982-8756f238ec49"
      },
      "execution_count": null,
      "outputs": [
        {
          "output_type": "execute_result",
          "data": {
            "text/plain": [
              "Index(['Category 1', 'Category 2', 'Category 3', 'Category 4', 'Category 5',\n",
              "       'Category 6', 'Category 7', 'Category 8', 'Category 9', 'Category 10',\n",
              "       'Category 13', 'Category 14', 'Category 15', 'Category 16',\n",
              "       'Category 17', 'Category 18', 'Category 19', 'Category 20',\n",
              "       'Category 21', 'Category 22', 'Category 23', 'hierarchial clusters'],\n",
              "      dtype='object')"
            ]
          },
          "metadata": {},
          "execution_count": 17
        }
      ]
    },
    {
      "cell_type": "code",
      "source": [
        "from sklearn.metrics import silhouette_score\n",
        "print(silhouette_score(data.iloc[:,:-1],data['hierarchial clusters']))"
      ],
      "metadata": {
        "colab": {
          "base_uri": "https://localhost:8080/"
        },
        "id": "Q4DrVpMWLURT",
        "outputId": "956891cf-febd-4863-da15-6513bbeeac77"
      },
      "execution_count": null,
      "outputs": [
        {
          "output_type": "stream",
          "name": "stdout",
          "text": [
            "0.11995109658866675\n"
          ]
        }
      ]
    },
    {
      "cell_type": "code",
      "source": [
        "data['hierarchial clusters'].value_counts().plot(kind = 'bar')"
      ],
      "metadata": {
        "colab": {
          "base_uri": "https://localhost:8080/",
          "height": 442
        },
        "id": "XY-KXI8TL-q7",
        "outputId": "6298b0d5-4cb9-47dc-9bb8-0cc7e719af26"
      },
      "execution_count": null,
      "outputs": [
        {
          "output_type": "execute_result",
          "data": {
            "text/plain": [
              "<Axes: >"
            ]
          },
          "metadata": {},
          "execution_count": 19
        },
        {
          "output_type": "display_data",
          "data": {
            "text/plain": [
              "<Figure size 640x480 with 1 Axes>"
            ],
            "image/png": "[encoded data removed]"
          },
          "metadata": {}
        }
      ]
    }
  ]
}