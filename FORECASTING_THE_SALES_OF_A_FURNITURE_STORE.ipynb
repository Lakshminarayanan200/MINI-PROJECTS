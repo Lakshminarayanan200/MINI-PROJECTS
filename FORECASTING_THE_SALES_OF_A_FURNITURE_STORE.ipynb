{
  "nbformat": 4,
  "nbformat_minor": 0,
  "metadata": {
    "colab": {
      "provenance": []
    },
    "kernelspec": {
      "name": "python3",
      "display_name": "Python 3"
    },
    "language_info": {
      "name": "python"
    }
  },
  "cells": [
    {
      "cell_type": "markdown",
      "source": [
        "# **IMPORT THE LIBRARIES**"
      ],
      "metadata": {
        "id": "Pkus-pqPMXCx"
      }
    },
    {
      "cell_type": "code",
      "execution_count": null,
      "metadata": {
        "id": "wXHPdrcpa-1p"
      },
      "outputs": [],
      "source": [
        "import pandas as pd\n",
        "import numpy as np\n",
        "import matplotlib.pyplot as plt\n",
        "import seaborn as sns\n",
        "from statsmodels.tsa.stattools import adfuller\n",
        "from statsmodels.tsa.api import ARIMA"
      ]
    },
    {
      "cell_type": "markdown",
      "source": [
        "# **LOAD AND AUDIT THE DATA**"
      ],
      "metadata": {
        "id": "J0YVtU3DMdWo"
      }
    },
    {
      "cell_type": "code",
      "source": [
        "data = pd.read_csv('/content/Super_Store.csv',encoding = 'latin_1')"
      ],
      "metadata": {
        "id": "RBiJxK6KccZs"
      },
      "execution_count": null,
      "outputs": []
    },
    {
      "cell_type": "code",
      "source": [
        "data.head()"
      ],
      "metadata": {
        "colab": {
          "base_uri": "https://localhost:8080/",
          "height": 647
        },
        "id": "cOxeVqynghTN",
        "outputId": "da2afb9e-8604-43ac-da05-f1fee70d47db"
      },
      "execution_count": null,
      "outputs": [
        {
          "output_type": "execute_result",
          "data": {
            "text/plain": [
              "   Row ID        Order ID  Order Date   Ship Date       Ship Mode Customer ID  \\\n",
              "0       1  CA-2016-152156   11/8/2016  11/11/2016    Second Class    CG-12520   \n",
              "1       2  CA-2016-152156   11/8/2016  11/11/2016    Second Class    CG-12520   \n",
              "2       4  US-2015-108966  10/11/2015  10/18/2015  Standard Class    SO-20335   \n",
              "3       6  CA-2014-115812    6/9/2014   6/14/2014  Standard Class    BH-11710   \n",
              "4      11  CA-2014-115812    6/9/2014   6/14/2014  Standard Class    BH-11710   \n",
              "\n",
              "     Customer Name   Segment        Country             City  ... Postal Code  \\\n",
              "0      Claire Gute  Consumer  United States        Henderson  ...       42420   \n",
              "1      Claire Gute  Consumer  United States        Henderson  ...       42420   \n",
              "2   Sean O'Donnell  Consumer  United States  Fort Lauderdale  ...       33311   \n",
              "3  Brosina Hoffman  Consumer  United States      Los Angeles  ...       90032   \n",
              "4  Brosina Hoffman  Consumer  United States      Los Angeles  ...       90032   \n",
              "\n",
              "   Region       Product ID   Category Sub-Category  \\\n",
              "0   South  FUR-BO-10001798  Furniture    Bookcases   \n",
              "1   South  FUR-CH-10000454  Furniture       Chairs   \n",
              "2   South  FUR-TA-10000577  Furniture       Tables   \n",
              "3    West  FUR-FU-10001487  Furniture  Furnishings   \n",
              "4    West  FUR-TA-10001539  Furniture       Tables   \n",
              "\n",
              "                                        Product Name      Sales  Quantity  \\\n",
              "0                  Bush Somerset Collection Bookcase   261.9600         2   \n",
              "1  Hon Deluxe Fabric Upholstered Stacking Chairs,...   731.9400         3   \n",
              "2      Bretford CR4500 Series Slim Rectangular Table   957.5775         5   \n",
              "3  Eldon Expressions Wood and Plastic Desk Access...    48.8600         7   \n",
              "4           Chromcraft Rectangular Conference Tables  1706.1840         9   \n",
              "\n",
              "   Discount    Profit  \n",
              "0      0.00   41.9136  \n",
              "1      0.00  219.5820  \n",
              "2      0.45 -383.0310  \n",
              "3      0.00   14.1694  \n",
              "4      0.20   85.3092  \n",
              "\n",
              "[5 rows x 21 columns]"
            ],
            "text/html": [
              "\n",
              "  <div id=\"df-8069bd21-68f4-4829-a23a-deaf8327c527\">\n",
              "    <div class=\"colab-df-container\">\n",
              "      <div>\n",
              "<style scoped>\n",
              "    .dataframe tbody tr th:only-of-type {\n",
              "        vertical-align: middle;\n",
              "    }\n",
              "\n",
              "    .dataframe tbody tr th {\n",
              "        vertical-align: top;\n",
              "    }\n",
              "\n",
              "    .dataframe thead th {\n",
              "        text-align: right;\n",
              "    }\n",
              "</style>\n",
              "<table border=\"1\" class=\"dataframe\">\n",
              "  <thead>\n",
              "    <tr style=\"text-align: right;\">\n",
              "      <th></th>\n",
              "      <th>Row ID</th>\n",
              "      <th>Order ID</th>\n",
              "      <th>Order Date</th>\n",
              "      <th>Ship Date</th>\n",
              "      <th>Ship Mode</th>\n",
              "      <th>Customer ID</th>\n",
              "      <th>Customer Name</th>\n",
              "      <th>Segment</th>\n",
              "      <th>Country</th>\n",
              "      <th>City</th>\n",
              "      <th>...</th>\n",
              "      <th>Postal Code</th>\n",
              "      <th>Region</th>\n",
              "      <th>Product ID</th>\n",
              "      <th>Category</th>\n",
              "      <th>Sub-Category</th>\n",
              "      <th>Product Name</th>\n",
              "      <th>Sales</th>\n",
              "      <th>Quantity</th>\n",
              "      <th>Discount</th>\n",
              "      <th>Profit</th>\n",
              "    </tr>\n",
              "  </thead>\n",
              "  <tbody>\n",
              "    <tr>\n",
              "      <th>0</th>\n",
              "      <td>1</td>\n",
              "      <td>CA-2016-152156</td>\n",
              "      <td>11/8/2016</td>\n",
              "      <td>11/11/2016</td>\n",
              "      <td>Second Class</td>\n",
              "      <td>CG-12520</td>\n",
              "      <td>Claire Gute</td>\n",
              "      <td>Consumer</td>\n",
              "      <td>United States</td>\n",
              "      <td>Henderson</td>\n",
              "      <td>...</td>\n",
              "      <td>42420</td>\n",
              "      <td>South</td>\n",
              "      <td>FUR-BO-10001798</td>\n",
              "      <td>Furniture</td>\n",
              "      <td>Bookcases</td>\n",
              "      <td>Bush Somerset Collection Bookcase</td>\n",
              "      <td>261.9600</td>\n",
              "      <td>2</td>\n",
              "      <td>0.00</td>\n",
              "      <td>41.9136</td>\n",
              "    </tr>\n",
              "    <tr>\n",
              "      <th>1</th>\n",
              "      <td>2</td>\n",
              "      <td>CA-2016-152156</td>\n",
              "      <td>11/8/2016</td>\n",
              "      <td>11/11/2016</td>\n",
              "      <td>Second Class</td>\n",
              "      <td>CG-12520</td>\n",
              "      <td>Claire Gute</td>\n",
              "      <td>Consumer</td>\n",
              "      <td>United States</td>\n",
              "      <td>Henderson</td>\n",
              "      <td>...</td>\n",
              "      <td>42420</td>\n",
              "      <td>South</td>\n",
              "      <td>FUR-CH-10000454</td>\n",
              "      <td>Furniture</td>\n",
              "      <td>Chairs</td>\n",
              "      <td>Hon Deluxe Fabric Upholstered Stacking Chairs,...</td>\n",
              "      <td>731.9400</td>\n",
              "      <td>3</td>\n",
              "      <td>0.00</td>\n",
              "      <td>219.5820</td>\n",
              "    </tr>\n",
              "    <tr>\n",
              "      <th>2</th>\n",
              "      <td>4</td>\n",
              "      <td>US-2015-108966</td>\n",
              "      <td>10/11/2015</td>\n",
              "      <td>10/18/2015</td>\n",
              "      <td>Standard Class</td>\n",
              "      <td>SO-20335</td>\n",
              "      <td>Sean O'Donnell</td>\n",
              "      <td>Consumer</td>\n",
              "      <td>United States</td>\n",
              "      <td>Fort Lauderdale</td>\n",
              "      <td>...</td>\n",
              "      <td>33311</td>\n",
              "      <td>South</td>\n",
              "      <td>FUR-TA-10000577</td>\n",
              "      <td>Furniture</td>\n",
              "      <td>Tables</td>\n",
              "      <td>Bretford CR4500 Series Slim Rectangular Table</td>\n",
              "      <td>957.5775</td>\n",
              "      <td>5</td>\n",
              "      <td>0.45</td>\n",
              "      <td>-383.0310</td>\n",
              "    </tr>\n",
              "    <tr>\n",
              "      <th>3</th>\n",
              "      <td>6</td>\n",
              "      <td>CA-2014-115812</td>\n",
              "      <td>6/9/2014</td>\n",
              "      <td>6/14/2014</td>\n",
              "      <td>Standard Class</td>\n",
              "      <td>BH-11710</td>\n",
              "      <td>Brosina Hoffman</td>\n",
              "      <td>Consumer</td>\n",
              "      <td>United States</td>\n",
              "      <td>Los Angeles</td>\n",
              "      <td>...</td>\n",
              "      <td>90032</td>\n",
              "      <td>West</td>\n",
              "      <td>FUR-FU-10001487</td>\n",
              "      <td>Furniture</td>\n",
              "      <td>Furnishings</td>\n",
              "      <td>Eldon Expressions Wood and Plastic Desk Access...</td>\n",
              "      <td>48.8600</td>\n",
              "      <td>7</td>\n",
              "      <td>0.00</td>\n",
              "      <td>14.1694</td>\n",
              "    </tr>\n",
              "    <tr>\n",
              "      <th>4</th>\n",
              "      <td>11</td>\n",
              "      <td>CA-2014-115812</td>\n",
              "      <td>6/9/2014</td>\n",
              "      <td>6/14/2014</td>\n",
              "      <td>Standard Class</td>\n",
              "      <td>BH-11710</td>\n",
              "      <td>Brosina Hoffman</td>\n",
              "      <td>Consumer</td>\n",
              "      <td>United States</td>\n",
              "      <td>Los Angeles</td>\n",
              "      <td>...</td>\n",
              "      <td>90032</td>\n",
              "      <td>West</td>\n",
              "      <td>FUR-TA-10001539</td>\n",
              "      <td>Furniture</td>\n",
              "      <td>Tables</td>\n",
              "      <td>Chromcraft Rectangular Conference Tables</td>\n",
              "      <td>1706.1840</td>\n",
              "      <td>9</td>\n",
              "      <td>0.20</td>\n",
              "      <td>85.3092</td>\n",
              "    </tr>\n",
              "  </tbody>\n",
              "</table>\n",
              "<p>5 rows × 21 columns</p>\n",
              "</div>\n",
              "      <button class=\"colab-df-convert\" onclick=\"convertToInteractive('df-8069bd21-68f4-4829-a23a-deaf8327c527')\"\n",
              "              title=\"Convert this dataframe to an interactive table.\"\n",
              "              style=\"display:none;\">\n",
              "        \n",
              "  <svg xmlns=\"http://www.w3.org/2000/svg\" height=\"24px\"viewBox=\"0 0 24 24\"\n",
              "       width=\"24px\">\n",
              "    <path d=\"M0 0h24v24H0V0z\" fill=\"none\"/>\n",
              "    <path d=\"M18.56 5.44l.94 2.06.94-2.06 2.06-.94-2.06-.94-.94-2.06-.94 2.06-2.06.94zm-11 1L8.5 8.5l.94-2.06 2.06-.94-2.06-.94L8.5 2.5l-.94 2.06-2.06.94zm10 10l.94 2.06.94-2.06 2.06-.94-2.06-.94-.94-2.06-.94 2.06-2.06.94z\"/><path d=\"M17.41 7.96l-1.37-1.37c-.4-.4-.92-.59-1.43-.59-.52 0-1.04.2-1.43.59L10.3 9.45l-7.72 7.72c-.78.78-.78 2.05 0 2.83L4 21.41c.39.39.9.59 1.41.59.51 0 1.02-.2 1.41-.59l7.78-7.78 2.81-2.81c.8-.78.8-2.07 0-2.86zM5.41 20L4 18.59l7.72-7.72 1.47 1.35L5.41 20z\"/>\n",
              "  </svg>\n",
              "      </button>\n",
              "      \n",
              "  <style>\n",
              "    .colab-df-container {\n",
              "      display:flex;\n",
              "      flex-wrap:wrap;\n",
              "      gap: 12px;\n",
              "    }\n",
              "\n",
              "    .colab-df-convert {\n",
              "      background-color: #E8F0FE;\n",
              "      border: none;\n",
              "      border-radius: 50%;\n",
              "      cursor: pointer;\n",
              "      display: none;\n",
              "      fill: #1967D2;\n",
              "      height: 32px;\n",
              "      padding: 0 0 0 0;\n",
              "      width: 32px;\n",
              "    }\n",
              "\n",
              "    .colab-df-convert:hover {\n",
              "      background-color: #E2EBFA;\n",
              "      box-shadow: 0px 1px 2px rgba(60, 64, 67, 0.3), 0px 1px 3px 1px rgba(60, 64, 67, 0.15);\n",
              "      fill: #174EA6;\n",
              "    }\n",
              "\n",
              "    [theme=dark] .colab-df-convert {\n",
              "      background-color: #3B4455;\n",
              "      fill: #D2E3FC;\n",
              "    }\n",
              "\n",
              "    [theme=dark] .colab-df-convert:hover {\n",
              "      background-color: #434B5C;\n",
              "      box-shadow: 0px 1px 3px 1px rgba(0, 0, 0, 0.15);\n",
              "      filter: drop-shadow(0px 1px 2px rgba(0, 0, 0, 0.3));\n",
              "      fill: #FFFFFF;\n",
              "    }\n",
              "  </style>\n",
              "\n",
              "      <script>\n",
              "        const buttonEl =\n",
              "          document.querySelector('#df-8069bd21-68f4-4829-a23a-deaf8327c527 button.colab-df-convert');\n",
              "        buttonEl.style.display =\n",
              "          google.colab.kernel.accessAllowed ? 'block' : 'none';\n",
              "\n",
              "        async function convertToInteractive(key) {\n",
              "          const element = document.querySelector('#df-8069bd21-68f4-4829-a23a-deaf8327c527');\n",
              "          const dataTable =\n",
              "            await google.colab.kernel.invokeFunction('convertToInteractive',\n",
              "                                                     [key], {});\n",
              "          if (!dataTable) return;\n",
              "\n",
              "          const docLinkHtml = 'Like what you see? Visit the ' +\n",
              "            '<a target=\"_blank\" href=https://colab.research.google.com/notebooks/data_table.ipynb>data table notebook</a>'\n",
              "            + ' to learn more about interactive tables.';\n",
              "          element.innerHTML = '';\n",
              "          dataTable['output_type'] = 'display_data';\n",
              "          await google.colab.output.renderOutput(dataTable, element);\n",
              "          const docLink = document.createElement('div');\n",
              "          docLink.innerHTML = docLinkHtml;\n",
              "          element.appendChild(docLink);\n",
              "        }\n",
              "      </script>\n",
              "    </div>\n",
              "  </div>\n",
              "  "
            ]
          },
          "metadata": {},
          "execution_count": 22
        }
      ]
    },
    {
      "cell_type": "code",
      "source": [
        "data.describe()"
      ],
      "metadata": {
        "colab": {
          "base_uri": "https://localhost:8080/",
          "height": 301
        },
        "id": "KTkK54L8glDy",
        "outputId": "0b5e3071-eb37-45cf-892c-38d04f2f7782"
      },
      "execution_count": null,
      "outputs": [
        {
          "output_type": "execute_result",
          "data": {
            "text/plain": [
              "            Row ID   Postal Code        Sales     Quantity     Discount  \\\n",
              "count  2121.000000   2121.000000  2121.000000  2121.000000  2121.000000   \n",
              "mean   5041.643564  55726.556341   349.834887     3.785007     0.173923   \n",
              "std    2885.740258  32261.888225   503.179145     2.251620     0.181547   \n",
              "min       1.000000   1040.000000     1.892000     1.000000     0.000000   \n",
              "25%    2568.000000  22801.000000    47.040000     2.000000     0.000000   \n",
              "50%    5145.000000  60505.000000   182.220000     3.000000     0.200000   \n",
              "75%    7534.000000  90032.000000   435.168000     5.000000     0.300000   \n",
              "max    9991.000000  99301.000000  4416.174000    14.000000     0.700000   \n",
              "\n",
              "            Profit  \n",
              "count  2121.000000  \n",
              "mean      8.699327  \n",
              "std     136.049246  \n",
              "min   -1862.312400  \n",
              "25%     -12.849000  \n",
              "50%       7.774800  \n",
              "75%      33.726600  \n",
              "max    1013.127000  "
            ],
            "text/html": [
              "\n",
              "  <div id=\"df-2c7b4629-ef2a-4879-b71f-c356af399d5c\">\n",
              "    <div class=\"colab-df-container\">\n",
              "      <div>\n",
              "<style scoped>\n",
              "    .dataframe tbody tr th:only-of-type {\n",
              "        vertical-align: middle;\n",
              "    }\n",
              "\n",
              "    .dataframe tbody tr th {\n",
              "        vertical-align: top;\n",
              "    }\n",
              "\n",
              "    .dataframe thead th {\n",
              "        text-align: right;\n",
              "    }\n",
              "</style>\n",
              "<table border=\"1\" class=\"dataframe\">\n",
              "  <thead>\n",
              "    <tr style=\"text-align: right;\">\n",
              "      <th></th>\n",
              "      <th>Row ID</th>\n",
              "      <th>Postal Code</th>\n",
              "      <th>Sales</th>\n",
              "      <th>Quantity</th>\n",
              "      <th>Discount</th>\n",
              "      <th>Profit</th>\n",
              "    </tr>\n",
              "  </thead>\n",
              "  <tbody>\n",
              "    <tr>\n",
              "      <th>count</th>\n",
              "      <td>2121.000000</td>\n",
              "      <td>2121.000000</td>\n",
              "      <td>2121.000000</td>\n",
              "      <td>2121.000000</td>\n",
              "      <td>2121.000000</td>\n",
              "      <td>2121.000000</td>\n",
              "    </tr>\n",
              "    <tr>\n",
              "      <th>mean</th>\n",
              "      <td>5041.643564</td>\n",
              "      <td>55726.556341</td>\n",
              "      <td>349.834887</td>\n",
              "      <td>3.785007</td>\n",
              "      <td>0.173923</td>\n",
              "      <td>8.699327</td>\n",
              "    </tr>\n",
              "    <tr>\n",
              "      <th>std</th>\n",
              "      <td>2885.740258</td>\n",
              "      <td>32261.888225</td>\n",
              "      <td>503.179145</td>\n",
              "      <td>2.251620</td>\n",
              "      <td>0.181547</td>\n",
              "      <td>136.049246</td>\n",
              "    </tr>\n",
              "    <tr>\n",
              "      <th>min</th>\n",
              "      <td>1.000000</td>\n",
              "      <td>1040.000000</td>\n",
              "      <td>1.892000</td>\n",
              "      <td>1.000000</td>\n",
              "      <td>0.000000</td>\n",
              "      <td>-1862.312400</td>\n",
              "    </tr>\n",
              "    <tr>\n",
              "      <th>25%</th>\n",
              "      <td>2568.000000</td>\n",
              "      <td>22801.000000</td>\n",
              "      <td>47.040000</td>\n",
              "      <td>2.000000</td>\n",
              "      <td>0.000000</td>\n",
              "      <td>-12.849000</td>\n",
              "    </tr>\n",
              "    <tr>\n",
              "      <th>50%</th>\n",
              "      <td>5145.000000</td>\n",
              "      <td>60505.000000</td>\n",
              "      <td>182.220000</td>\n",
              "      <td>3.000000</td>\n",
              "      <td>0.200000</td>\n",
              "      <td>7.774800</td>\n",
              "    </tr>\n",
              "    <tr>\n",
              "      <th>75%</th>\n",
              "      <td>7534.000000</td>\n",
              "      <td>90032.000000</td>\n",
              "      <td>435.168000</td>\n",
              "      <td>5.000000</td>\n",
              "      <td>0.300000</td>\n",
              "      <td>33.726600</td>\n",
              "    </tr>\n",
              "    <tr>\n",
              "      <th>max</th>\n",
              "      <td>9991.000000</td>\n",
              "      <td>99301.000000</td>\n",
              "      <td>4416.174000</td>\n",
              "      <td>14.000000</td>\n",
              "      <td>0.700000</td>\n",
              "      <td>1013.127000</td>\n",
              "    </tr>\n",
              "  </tbody>\n",
              "</table>\n",
              "</div>\n",
              "      <button class=\"colab-df-convert\" onclick=\"convertToInteractive('df-2c7b4629-ef2a-4879-b71f-c356af399d5c')\"\n",
              "              title=\"Convert this dataframe to an interactive table.\"\n",
              "              style=\"display:none;\">\n",
              "        \n",
              "  <svg xmlns=\"http://www.w3.org/2000/svg\" height=\"24px\"viewBox=\"0 0 24 24\"\n",
              "       width=\"24px\">\n",
              "    <path d=\"M0 0h24v24H0V0z\" fill=\"none\"/>\n",
              "    <path d=\"M18.56 5.44l.94 2.06.94-2.06 2.06-.94-2.06-.94-.94-2.06-.94 2.06-2.06.94zm-11 1L8.5 8.5l.94-2.06 2.06-.94-2.06-.94L8.5 2.5l-.94 2.06-2.06.94zm10 10l.94 2.06.94-2.06 2.06-.94-2.06-.94-.94-2.06-.94 2.06-2.06.94z\"/><path d=\"M17.41 7.96l-1.37-1.37c-.4-.4-.92-.59-1.43-.59-.52 0-1.04.2-1.43.59L10.3 9.45l-7.72 7.72c-.78.78-.78 2.05 0 2.83L4 21.41c.39.39.9.59 1.41.59.51 0 1.02-.2 1.41-.59l7.78-7.78 2.81-2.81c.8-.78.8-2.07 0-2.86zM5.41 20L4 18.59l7.72-7.72 1.47 1.35L5.41 20z\"/>\n",
              "  </svg>\n",
              "      </button>\n",
              "      \n",
              "  <style>\n",
              "    .colab-df-container {\n",
              "      display:flex;\n",
              "      flex-wrap:wrap;\n",
              "      gap: 12px;\n",
              "    }\n",
              "\n",
              "    .colab-df-convert {\n",
              "      background-color: #E8F0FE;\n",
              "      border: none;\n",
              "      border-radius: 50%;\n",
              "      cursor: pointer;\n",
              "      display: none;\n",
              "      fill: #1967D2;\n",
              "      height: 32px;\n",
              "      padding: 0 0 0 0;\n",
              "      width: 32px;\n",
              "    }\n",
              "\n",
              "    .colab-df-convert:hover {\n",
              "      background-color: #E2EBFA;\n",
              "      box-shadow: 0px 1px 2px rgba(60, 64, 67, 0.3), 0px 1px 3px 1px rgba(60, 64, 67, 0.15);\n",
              "      fill: #174EA6;\n",
              "    }\n",
              "\n",
              "    [theme=dark] .colab-df-convert {\n",
              "      background-color: #3B4455;\n",
              "      fill: #D2E3FC;\n",
              "    }\n",
              "\n",
              "    [theme=dark] .colab-df-convert:hover {\n",
              "      background-color: #434B5C;\n",
              "      box-shadow: 0px 1px 3px 1px rgba(0, 0, 0, 0.15);\n",
              "      filter: drop-shadow(0px 1px 2px rgba(0, 0, 0, 0.3));\n",
              "      fill: #FFFFFF;\n",
              "    }\n",
              "  </style>\n",
              "\n",
              "      <script>\n",
              "        const buttonEl =\n",
              "          document.querySelector('#df-2c7b4629-ef2a-4879-b71f-c356af399d5c button.colab-df-convert');\n",
              "        buttonEl.style.display =\n",
              "          google.colab.kernel.accessAllowed ? 'block' : 'none';\n",
              "\n",
              "        async function convertToInteractive(key) {\n",
              "          const element = document.querySelector('#df-2c7b4629-ef2a-4879-b71f-c356af399d5c');\n",
              "          const dataTable =\n",
              "            await google.colab.kernel.invokeFunction('convertToInteractive',\n",
              "                                                     [key], {});\n",
              "          if (!dataTable) return;\n",
              "\n",
              "          const docLinkHtml = 'Like what you see? Visit the ' +\n",
              "            '<a target=\"_blank\" href=https://colab.research.google.com/notebooks/data_table.ipynb>data table notebook</a>'\n",
              "            + ' to learn more about interactive tables.';\n",
              "          element.innerHTML = '';\n",
              "          dataTable['output_type'] = 'display_data';\n",
              "          await google.colab.output.renderOutput(dataTable, element);\n",
              "          const docLink = document.createElement('div');\n",
              "          docLink.innerHTML = docLinkHtml;\n",
              "          element.appendChild(docLink);\n",
              "        }\n",
              "      </script>\n",
              "    </div>\n",
              "  </div>\n",
              "  "
            ]
          },
          "metadata": {},
          "execution_count": 23
        }
      ]
    },
    {
      "cell_type": "code",
      "source": [
        "data.columns"
      ],
      "metadata": {
        "colab": {
          "base_uri": "https://localhost:8080/"
        },
        "id": "mo8Kgo0AgqT0",
        "outputId": "650845ef-ff77-4dcb-9bdd-f089899d697d"
      },
      "execution_count": null,
      "outputs": [
        {
          "output_type": "execute_result",
          "data": {
            "text/plain": [
              "Index(['Row ID', 'Order ID', 'Order Date', 'Ship Date', 'Ship Mode',\n",
              "       'Customer ID', 'Customer Name', 'Segment', 'Country', 'City', 'State',\n",
              "       'Postal Code', 'Region', 'Product ID', 'Category', 'Sub-Category',\n",
              "       'Product Name', 'Sales', 'Quantity', 'Discount', 'Profit'],\n",
              "      dtype='object')"
            ]
          },
          "metadata": {},
          "execution_count": 24
        }
      ]
    },
    {
      "cell_type": "code",
      "source": [
        "cols = ['Row ID', 'Order ID', 'Order Date', 'Ship Date', 'Ship Mode',\n",
        "       'Customer ID', 'Customer Name', 'Segment', 'Country', 'City', 'State',\n",
        "       'Postal Code', 'Region', 'Product ID', 'Category', 'Sub-Category',\n",
        "       'Product Name', 'Sales', 'Quantity', 'Discount', 'Profit']"
      ],
      "metadata": {
        "id": "gnWSR1JBhIkd"
      },
      "execution_count": null,
      "outputs": []
    },
    {
      "cell_type": "code",
      "source": [
        "data.isna().sum()"
      ],
      "metadata": {
        "colab": {
          "base_uri": "https://localhost:8080/"
        },
        "id": "HovIxoIlijFP",
        "outputId": "1b6db653-a3fc-4203-ce97-167f894d2493"
      },
      "execution_count": null,
      "outputs": [
        {
          "output_type": "execute_result",
          "data": {
            "text/plain": [
              "Row ID           0\n",
              "Order ID         0\n",
              "Order Date       0\n",
              "Ship Date        0\n",
              "Ship Mode        0\n",
              "Customer ID      0\n",
              "Customer Name    0\n",
              "Segment          0\n",
              "Country          0\n",
              "City             0\n",
              "State            0\n",
              "Postal Code      0\n",
              "Region           0\n",
              "Product ID       0\n",
              "Category         0\n",
              "Sub-Category     0\n",
              "Product Name     0\n",
              "Sales            0\n",
              "Quantity         0\n",
              "Discount         0\n",
              "Profit           0\n",
              "dtype: int64"
            ]
          },
          "metadata": {},
          "execution_count": 26
        }
      ]
    },
    {
      "cell_type": "code",
      "source": [
        "data1 = data.loc[:,['Order Date','Sales']]"
      ],
      "metadata": {
        "id": "JTT6N34HiruZ"
      },
      "execution_count": null,
      "outputs": []
    },
    {
      "cell_type": "code",
      "source": [
        "data1=data1.sort_values(\"Order Date\")"
      ],
      "metadata": {
        "id": "b2hWKZGWjMyt"
      },
      "execution_count": null,
      "outputs": []
    },
    {
      "cell_type": "code",
      "source": [
        "data1.head()"
      ],
      "metadata": {
        "colab": {
          "base_uri": "https://localhost:8080/",
          "height": 206
        },
        "id": "h95r1z9Ij0xt",
        "outputId": "a4399f27-d788-4818-d61e-eeffca651744"
      },
      "execution_count": null,
      "outputs": [
        {
          "output_type": "execute_result",
          "data": {
            "text/plain": [
              "     Order Date    Sales\n",
              "845    1/1/2017  474.430\n",
              "1707   1/1/2017  141.420\n",
              "1708   1/1/2017  310.744\n",
              "179    1/1/2017   48.896\n",
              "181   1/10/2014   51.940"
            ],
            "text/html": [
              "\n",
              "  <div id=\"df-8ae940f5-f896-41fc-841b-a793f97603fe\">\n",
              "    <div class=\"colab-df-container\">\n",
              "      <div>\n",
              "<style scoped>\n",
              "    .dataframe tbody tr th:only-of-type {\n",
              "        vertical-align: middle;\n",
              "    }\n",
              "\n",
              "    .dataframe tbody tr th {\n",
              "        vertical-align: top;\n",
              "    }\n",
              "\n",
              "    .dataframe thead th {\n",
              "        text-align: right;\n",
              "    }\n",
              "</style>\n",
              "<table border=\"1\" class=\"dataframe\">\n",
              "  <thead>\n",
              "    <tr style=\"text-align: right;\">\n",
              "      <th></th>\n",
              "      <th>Order Date</th>\n",
              "      <th>Sales</th>\n",
              "    </tr>\n",
              "  </thead>\n",
              "  <tbody>\n",
              "    <tr>\n",
              "      <th>845</th>\n",
              "      <td>1/1/2017</td>\n",
              "      <td>474.430</td>\n",
              "    </tr>\n",
              "    <tr>\n",
              "      <th>1707</th>\n",
              "      <td>1/1/2017</td>\n",
              "      <td>141.420</td>\n",
              "    </tr>\n",
              "    <tr>\n",
              "      <th>1708</th>\n",
              "      <td>1/1/2017</td>\n",
              "      <td>310.744</td>\n",
              "    </tr>\n",
              "    <tr>\n",
              "      <th>179</th>\n",
              "      <td>1/1/2017</td>\n",
              "      <td>48.896</td>\n",
              "    </tr>\n",
              "    <tr>\n",
              "      <th>181</th>\n",
              "      <td>1/10/2014</td>\n",
              "      <td>51.940</td>\n",
              "    </tr>\n",
              "  </tbody>\n",
              "</table>\n",
              "</div>\n",
              "      <button class=\"colab-df-convert\" onclick=\"convertToInteractive('df-8ae940f5-f896-41fc-841b-a793f97603fe')\"\n",
              "              title=\"Convert this dataframe to an interactive table.\"\n",
              "              style=\"display:none;\">\n",
              "        \n",
              "  <svg xmlns=\"http://www.w3.org/2000/svg\" height=\"24px\"viewBox=\"0 0 24 24\"\n",
              "       width=\"24px\">\n",
              "    <path d=\"M0 0h24v24H0V0z\" fill=\"none\"/>\n",
              "    <path d=\"M18.56 5.44l.94 2.06.94-2.06 2.06-.94-2.06-.94-.94-2.06-.94 2.06-2.06.94zm-11 1L8.5 8.5l.94-2.06 2.06-.94-2.06-.94L8.5 2.5l-.94 2.06-2.06.94zm10 10l.94 2.06.94-2.06 2.06-.94-2.06-.94-.94-2.06-.94 2.06-2.06.94z\"/><path d=\"M17.41 7.96l-1.37-1.37c-.4-.4-.92-.59-1.43-.59-.52 0-1.04.2-1.43.59L10.3 9.45l-7.72 7.72c-.78.78-.78 2.05 0 2.83L4 21.41c.39.39.9.59 1.41.59.51 0 1.02-.2 1.41-.59l7.78-7.78 2.81-2.81c.8-.78.8-2.07 0-2.86zM5.41 20L4 18.59l7.72-7.72 1.47 1.35L5.41 20z\"/>\n",
              "  </svg>\n",
              "      </button>\n",
              "      \n",
              "  <style>\n",
              "    .colab-df-container {\n",
              "      display:flex;\n",
              "      flex-wrap:wrap;\n",
              "      gap: 12px;\n",
              "    }\n",
              "\n",
              "    .colab-df-convert {\n",
              "      background-color: #E8F0FE;\n",
              "      border: none;\n",
              "      border-radius: 50%;\n",
              "      cursor: pointer;\n",
              "      display: none;\n",
              "      fill: #1967D2;\n",
              "      height: 32px;\n",
              "      padding: 0 0 0 0;\n",
              "      width: 32px;\n",
              "    }\n",
              "\n",
              "    .colab-df-convert:hover {\n",
              "      background-color: #E2EBFA;\n",
              "      box-shadow: 0px 1px 2px rgba(60, 64, 67, 0.3), 0px 1px 3px 1px rgba(60, 64, 67, 0.15);\n",
              "      fill: #174EA6;\n",
              "    }\n",
              "\n",
              "    [theme=dark] .colab-df-convert {\n",
              "      background-color: #3B4455;\n",
              "      fill: #D2E3FC;\n",
              "    }\n",
              "\n",
              "    [theme=dark] .colab-df-convert:hover {\n",
              "      background-color: #434B5C;\n",
              "      box-shadow: 0px 1px 3px 1px rgba(0, 0, 0, 0.15);\n",
              "      filter: drop-shadow(0px 1px 2px rgba(0, 0, 0, 0.3));\n",
              "      fill: #FFFFFF;\n",
              "    }\n",
              "  </style>\n",
              "\n",
              "      <script>\n",
              "        const buttonEl =\n",
              "          document.querySelector('#df-8ae940f5-f896-41fc-841b-a793f97603fe button.colab-df-convert');\n",
              "        buttonEl.style.display =\n",
              "          google.colab.kernel.accessAllowed ? 'block' : 'none';\n",
              "\n",
              "        async function convertToInteractive(key) {\n",
              "          const element = document.querySelector('#df-8ae940f5-f896-41fc-841b-a793f97603fe');\n",
              "          const dataTable =\n",
              "            await google.colab.kernel.invokeFunction('convertToInteractive',\n",
              "                                                     [key], {});\n",
              "          if (!dataTable) return;\n",
              "\n",
              "          const docLinkHtml = 'Like what you see? Visit the ' +\n",
              "            '<a target=\"_blank\" href=https://colab.research.google.com/notebooks/data_table.ipynb>data table notebook</a>'\n",
              "            + ' to learn more about interactive tables.';\n",
              "          element.innerHTML = '';\n",
              "          dataTable['output_type'] = 'display_data';\n",
              "          await google.colab.output.renderOutput(dataTable, element);\n",
              "          const docLink = document.createElement('div');\n",
              "          docLink.innerHTML = docLinkHtml;\n",
              "          element.appendChild(docLink);\n",
              "        }\n",
              "      </script>\n",
              "    </div>\n",
              "  </div>\n",
              "  "
            ]
          },
          "metadata": {},
          "execution_count": 31
        }
      ]
    },
    {
      "cell_type": "code",
      "source": [
        "data1[\"Order Date\"]=pd.to_datetime(data1[\"Order Date\"])\n",
        "data1.set_index(\"Order Date\",inplace=True)\n",
        "data1.index"
      ],
      "metadata": {
        "colab": {
          "base_uri": "https://localhost:8080/"
        },
        "id": "qyOUi82Tk-mA",
        "outputId": "77385e82-d40d-437a-c117-8a9e872bf8df"
      },
      "execution_count": null,
      "outputs": [
        {
          "output_type": "execute_result",
          "data": {
            "text/plain": [
              "DatetimeIndex(['2017-01-01', '2017-01-01', '2017-01-01', '2017-01-01',\n",
              "               '2014-01-10', '2015-01-10', '2016-01-10', '2016-01-10',\n",
              "               '2014-01-11', '2016-01-11',\n",
              "               ...\n",
              "               '2017-09-08', '2014-09-09', '2014-09-09', '2014-09-09',\n",
              "               '2016-09-09', '2017-09-09', '2017-09-09', '2017-09-09',\n",
              "               '2017-09-09', '2017-09-09'],\n",
              "              dtype='datetime64[ns]', name='Order Date', length=2121, freq=None)"
            ]
          },
          "metadata": {},
          "execution_count": 32
        }
      ]
    },
    {
      "cell_type": "code",
      "source": [
        "y = data1['Sales'].resample('MS').mean()"
      ],
      "metadata": {
        "id": "u6s3LUTwk2t5"
      },
      "execution_count": null,
      "outputs": []
    },
    {
      "cell_type": "code",
      "source": [
        "y.info()"
      ],
      "metadata": {
        "colab": {
          "base_uri": "https://localhost:8080/"
        },
        "id": "wbryWSpulbQe",
        "outputId": "901dc376-3411-4069-9467-92915f43fffb"
      },
      "execution_count": null,
      "outputs": [
        {
          "output_type": "stream",
          "name": "stdout",
          "text": [
            "<class 'pandas.core.series.Series'>\n",
            "DatetimeIndex: 48 entries, 2014-01-01 to 2017-12-01\n",
            "Freq: MS\n",
            "Series name: Sales\n",
            "Non-Null Count  Dtype  \n",
            "--------------  -----  \n",
            "48 non-null     float64\n",
            "dtypes: float64(1)\n",
            "memory usage: 768.0 bytes\n"
          ]
        }
      ]
    },
    {
      "cell_type": "code",
      "source": [
        "y"
      ],
      "metadata": {
        "colab": {
          "base_uri": "https://localhost:8080/"
        },
        "id": "5UJx5jr7lgiI",
        "outputId": "96e42ce4-3bdc-4c5c-e82a-153435573f38"
      },
      "execution_count": null,
      "outputs": [
        {
          "output_type": "execute_result",
          "data": {
            "text/plain": [
              "Order Date\n",
              "2014-01-01    312.126250\n",
              "2014-02-01    262.808286\n",
              "2014-03-01    441.635030\n",
              "2014-04-01    305.570654\n",
              "2014-05-01    288.032792\n",
              "2014-06-01    440.204187\n",
              "2014-07-01    327.910636\n",
              "2014-08-01    305.014437\n",
              "2014-09-01    425.294300\n",
              "2014-10-01    384.507719\n",
              "2014-11-01    347.820527\n",
              "2014-12-01    414.134682\n",
              "2015-01-01    782.662773\n",
              "2015-02-01    284.943091\n",
              "2015-03-01    446.420821\n",
              "2015-04-01    317.445409\n",
              "2015-05-01    312.498350\n",
              "2015-06-01    296.699192\n",
              "2015-07-01    341.860500\n",
              "2015-08-01    301.206006\n",
              "2015-09-01    437.883717\n",
              "2015-10-01    334.072875\n",
              "2015-11-01    401.049773\n",
              "2015-12-01    360.715925\n",
              "2016-01-01    346.488318\n",
              "2016-02-01    206.607947\n",
              "2016-03-01    312.221756\n",
              "2016-04-01    377.488286\n",
              "2016-05-01    351.624070\n",
              "2016-06-01    343.962421\n",
              "2016-07-01    335.090231\n",
              "2016-08-01    430.456286\n",
              "2016-09-01    328.468445\n",
              "2016-10-01    247.345354\n",
              "2016-11-01    392.390479\n",
              "2016-12-01    436.651369\n",
              "2017-01-01    248.501333\n",
              "2017-02-01    264.089900\n",
              "2017-03-01    286.669600\n",
              "2017-04-01    206.044502\n",
              "2017-05-01    319.953928\n",
              "2017-06-01    372.717386\n",
              "2017-07-01    227.173500\n",
              "2017-08-01    395.945487\n",
              "2017-09-01    349.737422\n",
              "2017-10-01    308.226313\n",
              "2017-11-01    374.310253\n",
              "2017-12-01    296.296857\n",
              "Freq: MS, Name: Sales, dtype: float64"
            ]
          },
          "metadata": {},
          "execution_count": 35
        }
      ]
    },
    {
      "cell_type": "code",
      "source": [
        "y.plot()"
      ],
      "metadata": {
        "colab": {
          "base_uri": "https://localhost:8080/",
          "height": 483
        },
        "id": "RBPjHzAdlort",
        "outputId": "9155245e-cbc0-48c0-f372-43df4eeb9daf"
      },
      "execution_count": null,
      "outputs": [
        {
          "output_type": "execute_result",
          "data": {
            "text/plain": [
              "<Axes: xlabel='Order Date'>"
            ]
          },
          "metadata": {},
          "execution_count": 36
        },
        {
          "output_type": "display_data",
          "data": {
            "text/plain": [
              "<Figure size 640x480 with 1 Axes>"
            ],
            "image/png": "[encoded data removed]"
          },
          "metadata": {}
        }
      ]
    },
    {
      "cell_type": "code",
      "source": [
        "from statsmodels.tsa.seasonal import seasonal_decompose\n",
        "from matplotlib import pyplot\n",
        "series = y\n",
        "result = seasonal_decompose(series, model = 'additive')\n",
        "result.plot()\n",
        "pyplot.show()"
      ],
      "metadata": {
        "colab": {
          "base_uri": "https://localhost:8080/",
          "height": 487
        },
        "id": "upxsgA5am9uF",
        "outputId": "b36ec270-53d5-4ec9-85e0-fe08bedcfa56"
      },
      "execution_count": null,
      "outputs": [
        {
          "output_type": "display_data",
          "data": {
            "text/plain": [
              "<Figure size 640x480 with 4 Axes>"
            ],
            "image/png": "[encoded data removed]"
          },
          "metadata": {}
        }
      ]
    },
    {
      "cell_type": "code",
      "source": [
        "# perform the ADF test\n",
        "result = adfuller(y)"
      ],
      "metadata": {
        "id": "AcjC_IJTogc-"
      },
      "execution_count": null,
      "outputs": []
    },
    {
      "cell_type": "markdown",
      "source": [
        "\n",
        "\n",
        "*   NULL HYPOTHESIS: THERE IS NO STATIONARITY\n",
        "*   ALTERNATE HYPOTHESIS: STATIONARITY\n",
        "\n"
      ],
      "metadata": {
        "id": "KI7UYnwbtaYh"
      }
    },
    {
      "cell_type": "code",
      "source": [
        "print(\"ADF statistic: %f\" % result[0])\n",
        "print(\"p-value: %f\" % result[1])\n",
        "print(\"Critical values:\")\n",
        "for key, value in result[4].items():\n",
        "    print('\\t%s: %.3f'%(key,value))"
      ],
      "metadata": {
        "colab": {
          "base_uri": "https://localhost:8080/"
        },
        "id": "IPww6xOSozX6",
        "outputId": "b2b55d5d-3c8f-4bc3-8910-9f9b9365e944"
      },
      "execution_count": null,
      "outputs": [
        {
          "output_type": "stream",
          "name": "stdout",
          "text": [
            "ADF statistic: -6.962405\n",
            "p-value: 0.000000\n",
            "Critical values:\n",
            "\t1%: -3.578\n",
            "\t5%: -2.925\n",
            "\t10%: -2.601\n"
          ]
        }
      ]
    },
    {
      "cell_type": "code",
      "source": [
        "from pandas.plotting import autocorrelation_plot"
      ],
      "metadata": {
        "id": "O0LMldXOznoU"
      },
      "execution_count": null,
      "outputs": []
    },
    {
      "cell_type": "code",
      "source": [
        "autocorrelation_plot(y)"
      ],
      "metadata": {
        "colab": {
          "base_uri": "https://localhost:8080/",
          "height": 472
        },
        "id": "DEkEGzBy1MVr",
        "outputId": "44db8a46-0b44-4ff6-c420-79d5713cf5e1"
      },
      "execution_count": null,
      "outputs": [
        {
          "output_type": "execute_result",
          "data": {
            "text/plain": [
              "<Axes: xlabel='Lag', ylabel='Autocorrelation'>"
            ]
          },
          "metadata": {},
          "execution_count": 47
        },
        {
          "output_type": "display_data",
          "data": {
            "text/plain": [
              "<Figure size 640x480 with 1 Axes>"
            ],
            "image/png": "[encoded data removed]"
          },
          "metadata": {}
        }
      ]
    },
    {
      "cell_type": "code",
      "source": [
        "import statsmodels.api as sm\n",
        "model=sm.tsa.statespace.SARIMAX(y,order=(0, 1, 1))\n",
        "result = model.fit()"
      ],
      "metadata": {
        "id": "liIbFu6F1OlX"
      },
      "execution_count": null,
      "outputs": []
    },
    {
      "cell_type": "code",
      "source": [
        "forecast=result.predict(start='2014-01-01',end='2018-10-01')"
      ],
      "metadata": {
        "id": "XqEPF4kn1w_3"
      },
      "execution_count": null,
      "outputs": []
    },
    {
      "cell_type": "code",
      "source": [
        "forecast"
      ],
      "metadata": {
        "colab": {
          "base_uri": "https://localhost:8080/"
        },
        "id": "xDOtJCgI2LM5",
        "outputId": "e3e0d176-1153-458d-941e-0d75039f5c74"
      },
      "execution_count": null,
      "outputs": [
        {
          "output_type": "execute_result",
          "data": {
            "text/plain": [
              "2014-01-01      0.000000\n",
              "2014-02-01    309.743558\n",
              "2014-03-01    286.309537\n",
              "2014-04-01    338.364007\n",
              "2014-05-01    330.045048\n",
              "2014-06-01    321.416886\n",
              "2014-07-01    342.044674\n",
              "2014-08-01    339.904631\n",
              "2014-09-01    335.191471\n",
              "2014-10-01    346.246926\n",
              "2014-11-01    350.572671\n",
              "2014-12-01    350.282563\n",
              "2015-01-01    356.619820\n",
              "2015-02-01    396.762012\n",
              "2015-03-01    386.689700\n",
              "2015-04-01    391.864382\n",
              "2015-05-01    385.631742\n",
              "2015-06-01    379.684197\n",
              "2015-07-01    373.105767\n",
              "2015-08-01    370.683335\n",
              "2015-09-01    365.399999\n",
              "2015-10-01    370.819903\n",
              "2015-11-01    368.112173\n",
              "2015-12-01    370.508410\n",
              "2016-01-01    369.803877\n",
              "2016-02-01    368.142575\n",
              "2016-03-01    356.729436\n",
              "2016-04-01    353.607790\n",
              "2016-05-01    355.272018\n",
              "2016-06-01    355.019206\n",
              "2016-07-01    354.256655\n",
              "2016-08-01    352.940387\n",
              "2016-09-01    358.244273\n",
              "2016-10-01    356.213443\n",
              "2016-11-01    348.808927\n",
              "2016-12-01    351.765860\n",
              "2017-01-01    357.512996\n",
              "2017-02-01    350.146028\n",
              "2017-03-01    344.339736\n",
              "2017-04-01    340.454122\n",
              "2017-05-01    331.409115\n",
              "2017-06-01    330.639065\n",
              "2017-07-01    333.465072\n",
              "2017-08-01    326.332217\n",
              "2017-09-01    331.000439\n",
              "2017-10-01    332.256161\n",
              "2017-11-01    330.646578\n",
              "2017-12-01    333.569930\n",
              "2018-01-01    331.075447\n",
              "2018-02-01    331.075447\n",
              "2018-03-01    331.075447\n",
              "2018-04-01    331.075447\n",
              "2018-05-01    331.075447\n",
              "2018-06-01    331.075447\n",
              "2018-07-01    331.075447\n",
              "2018-08-01    331.075447\n",
              "2018-09-01    331.075447\n",
              "2018-10-01    331.075447\n",
              "Freq: MS, Name: predicted_mean, dtype: float64"
            ]
          },
          "metadata": {},
          "execution_count": 52
        }
      ]
    },
    {
      "cell_type": "code",
      "source": [
        "y"
      ],
      "metadata": {
        "colab": {
          "base_uri": "https://localhost:8080/"
        },
        "id": "morqlJdj3ysu",
        "outputId": "75315cbf-6898-4692-f391-19ad8907675f"
      },
      "execution_count": null,
      "outputs": [
        {
          "output_type": "execute_result",
          "data": {
            "text/plain": [
              "Order Date\n",
              "2014-01-01    312.126250\n",
              "2014-02-01    262.808286\n",
              "2014-03-01    441.635030\n",
              "2014-04-01    305.570654\n",
              "2014-05-01    288.032792\n",
              "2014-06-01    440.204187\n",
              "2014-07-01    327.910636\n",
              "2014-08-01    305.014437\n",
              "2014-09-01    425.294300\n",
              "2014-10-01    384.507719\n",
              "2014-11-01    347.820527\n",
              "2014-12-01    414.134682\n",
              "2015-01-01    782.662773\n",
              "2015-02-01    284.943091\n",
              "2015-03-01    446.420821\n",
              "2015-04-01    317.445409\n",
              "2015-05-01    312.498350\n",
              "2015-06-01    296.699192\n",
              "2015-07-01    341.860500\n",
              "2015-08-01    301.206006\n",
              "2015-09-01    437.883717\n",
              "2015-10-01    334.072875\n",
              "2015-11-01    401.049773\n",
              "2015-12-01    360.715925\n",
              "2016-01-01    346.488318\n",
              "2016-02-01    206.607947\n",
              "2016-03-01    312.221756\n",
              "2016-04-01    377.488286\n",
              "2016-05-01    351.624070\n",
              "2016-06-01    343.962421\n",
              "2016-07-01    335.090231\n",
              "2016-08-01    430.456286\n",
              "2016-09-01    328.468445\n",
              "2016-10-01    247.345354\n",
              "2016-11-01    392.390479\n",
              "2016-12-01    436.651369\n",
              "2017-01-01    248.501333\n",
              "2017-02-01    264.089900\n",
              "2017-03-01    286.669600\n",
              "2017-04-01    206.044502\n",
              "2017-05-01    319.953928\n",
              "2017-06-01    372.717386\n",
              "2017-07-01    227.173500\n",
              "2017-08-01    395.945487\n",
              "2017-09-01    349.737422\n",
              "2017-10-01    308.226313\n",
              "2017-11-01    374.310253\n",
              "2017-12-01    296.296857\n",
              "Freq: MS, Name: Sales, dtype: float64"
            ]
          },
          "metadata": {},
          "execution_count": 53
        }
      ]
    },
    {
      "cell_type": "code",
      "source": [
        "from sklearn.metrics import mean_squared_error"
      ],
      "metadata": {
        "id": "DEGgUoQf37Tf"
      },
      "execution_count": null,
      "outputs": []
    },
    {
      "cell_type": "code",
      "source": [
        "actual=y\n",
        "predicted = forecast['2014-01-01':'2017-12-01']"
      ],
      "metadata": {
        "id": "RSx5qdgX4nPy"
      },
      "execution_count": null,
      "outputs": []
    },
    {
      "cell_type": "code",
      "source": [
        "rmse_model = np.sqrt(mean_squared_error(actual,predicted))\n",
        "print(rmse_model)"
      ],
      "metadata": {
        "colab": {
          "base_uri": "https://localhost:8080/"
        },
        "id": "lhLJINax46h-",
        "outputId": "281ec85e-c5bc-47ec-83f1-cdf5b0abc90d"
      },
      "execution_count": null,
      "outputs": [
        {
          "output_type": "stream",
          "name": "stdout",
          "text": [
            "102.5941492979255\n"
          ]
        }
      ]
    },
    {
      "cell_type": "code",
      "source": [
        "plt.plot(y)\n",
        "plt.plot(forecast)\n",
        "plt.show()"
      ],
      "metadata": {
        "colab": {
          "base_uri": "https://localhost:8080/",
          "height": 430
        },
        "id": "xXojOqPt5JxK",
        "outputId": "d5f22849-02bb-49d3-b7f8-55eb9f02ba69"
      },
      "execution_count": null,
      "outputs": [
        {
          "output_type": "display_data",
          "data": {
            "text/plain": [
              "<Figure size 640x480 with 1 Axes>"
            ],
            "image/png": "[encoded data removed]"
          },
          "metadata": {}
        }
      ]
    }
  ]
}